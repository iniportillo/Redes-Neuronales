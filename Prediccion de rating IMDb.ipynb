{
  "nbformat": 4,
  "nbformat_minor": 0,
  "metadata": {
    "colab": {
      "provenance": []
    },
    "kernelspec": {
      "name": "python3",
      "display_name": "Python 3"
    },
    "language_info": {
      "name": "python"
    }
  },
  "cells": [
    {
      "cell_type": "code",
      "execution_count": null,
      "metadata": {
        "colab": {
          "base_uri": "https://localhost:8080/"
        },
        "id": "5vYeU3mWbc_G",
        "outputId": "4e01d1ed-8078-46f5-d8f8-1e11842a2acc"
      },
      "outputs": [
        {
          "output_type": "stream",
          "name": "stdout",
          "text": [
            "✅ Librerías importadas correctamente.\n"
          ]
        }
      ],
      "source": [
        "# --- Librerías básicas ---\n",
        "import pandas as pd\n",
        "import numpy as np\n",
        "\n",
        "# --- Librerías de Deep Learning ---\n",
        "import torch\n",
        "import torch.nn as nn\n",
        "import torch.optim as optim\n",
        "from torch.utils.data import DataLoader, TensorDataset\n",
        "\n",
        "# --- Librerías de Preprocesamiento ---\n",
        "from sklearn.model_selection import train_test_split\n",
        "from sklearn.preprocessing import StandardScaler, LabelEncoder\n",
        "\n",
        "# --- Librerías de Visualización ---\n",
        "import matplotlib.pyplot as plt\n",
        "import seaborn as sns\n",
        "\n",
        "# Confirmar que se han importado correctamente\n",
        "print(\"✅ Librerías importadas correctamente.\")\n",
        "\n"
      ]
    },
    {
      "cell_type": "code",
      "source": [
        "# --- Cargar dataset desde Google Drive ---\n",
        "df = pd.read_csv(\"https://drive.google.com/uc?export=download&id=18glOMWxHUOPDQa6t2mwRG6vJN1GbpiIA\")\n",
        "\n",
        "# --- Configuración para visualizar mejor los DataFrames ---\n",
        "pd.set_option('display.max_columns', None)\n",
        "pd.set_option('display.width', None)\n",
        "\n",
        "# --- Verificar las primeras filas del DataFrame ---\n",
        "print(\"🔎 Primeras filas del DataFrame original:\")\n",
        "print(df.head())\n",
        "\n"
      ],
      "metadata": {
        "colab": {
          "base_uri": "https://localhost:8080/"
        },
        "id": "slPOpp1ndFwE",
        "outputId": "1c31bd35-d8a7-452b-e356-168242190fa9"
      },
      "execution_count": null,
      "outputs": [
        {
          "output_type": "stream",
          "name": "stdout",
          "text": [
            "🔎 Primeras filas del DataFrame original:\n",
            "                                      url              title   type  \\\n",
            "0  https://www.netflix.com/title/60000724       Forrest Gump  movie   \n",
            "1   https://www.netflix.com/title/1154386  The Fifth Element  movie   \n",
            "2  https://www.netflix.com/title/60031236  Kill Bill: Vol. 1  movie   \n",
            "3  https://www.netflix.com/title/70021659            Jarhead  movie   \n",
            "4   https://www.netflix.com/title/1080395         Unforgiven  movie   \n",
            "\n",
            "                      genres  releaseYear     imdbId  imdbAverageRating  \\\n",
            "0             Drama, Romance       1994.0  tt0109830                8.8   \n",
            "1  Action, Adventure, Sci-Fi       1997.0  tt0119116                7.6   \n",
            "2    Action, Crime, Thriller       2003.0  tt0266697                8.2   \n",
            "3      Biography, Drama, War       2005.0  tt0418763                7.0   \n",
            "4             Drama, Western       1992.0  tt0105695                8.2   \n",
            "\n",
            "   imdbNumVotes                                 availableCountries  \n",
            "0     2313221.0                                                 MX  \n",
            "1      516523.0                                         AT, CH, DE  \n",
            "2     1220488.0  AE, AL, AO, AT, AU, AZ, BG, BH, BY, CA, CI, CM...  \n",
            "3      211314.0  AD, AE, AG, AL, AO, AR, AT, AZ, BA, BB, BE, BG...  \n",
            "4      443310.0  AU, BA, BE, BG, CZ, HR, HU, MD, ME, MK, NZ, PL...  \n"
          ]
        }
      ]
    },
    {
      "cell_type": "code",
      "source": [
        "# --- Eliminar filas con valores nulos ---\n",
        "df = df.dropna().reset_index(drop=True)\n",
        "\n",
        "# --- Ajustar tipos de columnas ---\n",
        "df['releaseYear'] = df['releaseYear'].astype('Int64')\n",
        "df['imdbNumVotes'] = df['imdbNumVotes'].astype('Int64')\n",
        "\n",
        "# --- Eliminar columnas innecesarias ---\n",
        "df = df.drop(['url', 'imdbId', 'availableCountries'], axis=1)\n",
        "\n",
        "# --- Mostrar información general después del preprocesamiento ---\n",
        "print(\"✅ Preprocesamiento básico realizado.\")\n",
        "print(df.info())\n",
        "\n"
      ],
      "metadata": {
        "colab": {
          "base_uri": "https://localhost:8080/"
        },
        "id": "xVNX5KJudJU3",
        "outputId": "6806a919-124b-4a29-d9ba-424b1d288fe6"
      },
      "execution_count": null,
      "outputs": [
        {
          "output_type": "stream",
          "name": "stdout",
          "text": [
            "✅ Preprocesamiento básico realizado.\n",
            "<class 'pandas.core.frame.DataFrame'>\n",
            "RangeIndex: 6697 entries, 0 to 6696\n",
            "Data columns (total 6 columns):\n",
            " #   Column             Non-Null Count  Dtype  \n",
            "---  ------             --------------  -----  \n",
            " 0   title              6697 non-null   object \n",
            " 1   type               6697 non-null   object \n",
            " 2   genres             6697 non-null   object \n",
            " 3   releaseYear        6697 non-null   Int64  \n",
            " 4   imdbAverageRating  6697 non-null   float64\n",
            " 5   imdbNumVotes       6697 non-null   Int64  \n",
            "dtypes: Int64(2), float64(1), object(3)\n",
            "memory usage: 327.1+ KB\n",
            "None\n"
          ]
        }
      ]
    },
    {
      "cell_type": "code",
      "source": [
        "# --- Crear nueva columna para distinguir entre películas y series ---\n",
        "df['type_new'] = np.where(df['type'] == 'movie', 0, 1)\n",
        "\n",
        "# --- Función para codificar géneros relevantes ---\n",
        "def encode_new(genres):\n",
        "    encoding = [0, 0, 0]  # Drama, Comedy, Other\n",
        "    if pd.isna(genres):\n",
        "        return [None, None, None]\n",
        "    elif 'Drama' in genres and 'Comedy' not in genres:\n",
        "        encoding[0] = 1\n",
        "    elif 'Comedy' in genres and 'Drama' not in genres:\n",
        "        encoding[1] = 1\n",
        "    elif 'Comedy' not in genres and 'Drama' not in genres:\n",
        "        encoding[2] = 1\n",
        "    else:\n",
        "        return [None, None, None]\n",
        "    return encoding\n",
        "\n",
        "# --- Aplicar codificación de géneros ---\n",
        "df[['drama', 'comedy', 'other']] = pd.DataFrame(df['genres'].apply(encode_new).tolist(), index=df.index)\n",
        "\n",
        "# --- Eliminar filas donde la codificación de géneros no fue posible ---\n",
        "df = df.dropna(subset=['drama', 'comedy', 'other'])\n",
        "\n",
        "# --- Eliminar columnas originales ---\n",
        "df = df.drop(['genres', 'type'], axis=1)\n",
        "\n",
        "# --- Mostrar primeras filas para comprobar ---\n",
        "print(\"✅ Codificación de géneros completada.\")\n",
        "print(df[['drama', 'comedy', 'other']].head())\n",
        "\n"
      ],
      "metadata": {
        "colab": {
          "base_uri": "https://localhost:8080/"
        },
        "id": "OzrR4ZohdMAS",
        "outputId": "b931be60-1eb0-4eac-a693-064aa6a006e6"
      },
      "execution_count": null,
      "outputs": [
        {
          "output_type": "stream",
          "name": "stdout",
          "text": [
            "✅ Codificación de géneros completada.\n",
            "   drama  comedy  other\n",
            "0    1.0     0.0    0.0\n",
            "1    0.0     0.0    1.0\n",
            "2    0.0     0.0    1.0\n",
            "3    1.0     0.0    0.0\n",
            "4    1.0     0.0    0.0\n"
          ]
        }
      ]
    },
    {
      "cell_type": "code",
      "source": [
        "# --- Función para eliminar valores atípicos basados en 3-sigma ---\n",
        "def remove_outliers_3sigma(df, columns):\n",
        "    for col in columns:\n",
        "        mean = df[col].mean()\n",
        "        std = df[col].std()\n",
        "        lower_bound = mean - 3 * std\n",
        "        upper_bound = mean + 3 * std\n",
        "        df = df[(df[col] >= lower_bound) & (df[col] <= upper_bound)]\n",
        "    return df\n",
        "\n",
        "# --- Aplicar eliminación de outliers ---\n",
        "df = remove_outliers_3sigma(df, ['releaseYear', 'imdbNumVotes'])\n",
        "\n",
        "# --- Mostrar tamaño del DataFrame después de eliminar outliers ---\n",
        "print(f\"✅ Outliers eliminados. Tamaño del DataFrame: {df.shape}\")\n",
        "\n"
      ],
      "metadata": {
        "colab": {
          "base_uri": "https://localhost:8080/"
        },
        "id": "qS8WrQBkdN-l",
        "outputId": "c898dca9-0f23-484d-f9a4-26f842ba8ce2"
      },
      "execution_count": null,
      "outputs": [
        {
          "output_type": "stream",
          "name": "stdout",
          "text": [
            "✅ Outliers eliminados. Tamaño del DataFrame: (5548, 8)\n"
          ]
        }
      ]
    },
    {
      "cell_type": "code",
      "source": [
        "# --- Función para categorizar el rating de IMDB ---\n",
        "def categorize_imdb_rating(rating):\n",
        "    if rating < 6:\n",
        "        return \"Mal\"\n",
        "    elif 6 <= rating < 7:\n",
        "        return \"Bien\"\n",
        "    elif 7 <= rating < 8:\n",
        "        return \"Muy bien\"\n",
        "    elif 8 <= rating <= 10:\n",
        "        return \"Excelente\"\n",
        "    else:\n",
        "        return \"No categorizado\"\n",
        "\n",
        "# --- Aplicar función ---\n",
        "df['rating_category'] = df['imdbAverageRating'].apply(categorize_imdb_rating)\n",
        "\n",
        "# --- Ver distribución de clases ---\n",
        "print(\"✅ Categorías de rating creadas:\")\n",
        "print(df['rating_category'].value_counts())\n",
        "\n"
      ],
      "metadata": {
        "colab": {
          "base_uri": "https://localhost:8080/"
        },
        "id": "LgtuVuuTdPrI",
        "outputId": "e1c0c176-4ca7-408d-de7d-b748fd882538"
      },
      "execution_count": null,
      "outputs": [
        {
          "output_type": "stream",
          "name": "stdout",
          "text": [
            "✅ Categorías de rating creadas:\n",
            "rating_category\n",
            "Bien         1984\n",
            "Muy bien     1787\n",
            "Mal          1314\n",
            "Excelente     463\n",
            "Name: count, dtype: int64\n"
          ]
        }
      ]
    },
    {
      "cell_type": "code",
      "source": [
        "# --- Estandarizar releaseYear e imdbNumVotes ---\n",
        "scaler = StandardScaler()\n",
        "columns_to_standardize = ['releaseYear', 'imdbNumVotes']\n",
        "df[columns_to_standardize] = scaler.fit_transform(df[columns_to_standardize])\n",
        "\n",
        "# --- Mostrar estadísticos después de estandarización ---\n",
        "print(\"✅ Variables numéricas estandarizadas:\")\n",
        "print(df[columns_to_standardize])\n",
        "\n"
      ],
      "metadata": {
        "colab": {
          "base_uri": "https://localhost:8080/"
        },
        "id": "ZiEBZMsudRIL",
        "outputId": "1c354a48-7706-4b9f-e659-69d35e510795"
      },
      "execution_count": null,
      "outputs": [
        {
          "output_type": "stream",
          "name": "stdout",
          "text": [
            "✅ Variables numéricas estandarizadas:\n",
            "      releaseYear  imdbNumVotes\n",
            "1       -1.658254      4.252866\n",
            "3       -0.809996      1.418538\n",
            "4       -2.188416      3.572972\n",
            "6       -1.340158      1.837221\n",
            "7       -0.809996      1.858180\n",
            "...           ...           ...\n",
            "6691     1.204617     -0.540043\n",
            "6692     1.204617     -0.537759\n",
            "6693     1.204617     -0.537090\n",
            "6694     1.204617     -0.520272\n",
            "6696     1.204617     -0.536654\n",
            "\n",
            "[5548 rows x 2 columns]\n"
          ]
        }
      ]
    },
    {
      "cell_type": "code",
      "source": [
        "# --- Seleccionar 5.000 filas de manera aleatoria ---\n",
        "df = df.sample(5000, random_state=40).reset_index(drop=True)\n",
        "\n",
        "# --- Definir X (features) e y (target) ---\n",
        "X = df[['type_new', 'releaseYear', 'imdbNumVotes', 'drama', 'comedy', 'other']]\n",
        "y = df['rating_category']\n",
        "\n",
        "# --- Codificar etiquetas de y ---\n",
        "label_encoder = LabelEncoder()\n",
        "y_encoded = label_encoder.fit_transform(y)\n",
        "\n",
        "# --- Dividir en conjuntos de entrenamiento y test ---\n",
        "X_train, X_test, y_train, y_test = train_test_split(X, y_encoded, test_size=0.2, random_state=40)\n",
        "\n",
        "# --- Convertir datos a tensores ---\n",
        "X_train_tensor = torch.tensor(X_train.values, dtype=torch.float32)\n",
        "y_train_tensor = torch.tensor(y_train, dtype=torch.long)\n",
        "X_test_tensor = torch.tensor(X_test.values, dtype=torch.float32)\n",
        "y_test_tensor = torch.tensor(y_test, dtype=torch.long)\n",
        "\n",
        "# --- Crear dataset y dataloader ---\n",
        "train_dataset = TensorDataset(X_train_tensor, y_train_tensor)\n",
        "train_loader = DataLoader(train_dataset, batch_size=64, shuffle=True)\n",
        "\n",
        "# --- Mostrar tamaños de los datasets ---\n",
        "print(f\"✅ Datos preparados. Tamaño X_train: {X_train_tensor.shape}, Tamaño y_train: {y_train_tensor.shape}\")\n",
        "\n"
      ],
      "metadata": {
        "colab": {
          "base_uri": "https://localhost:8080/"
        },
        "id": "UUxai7zndSnb",
        "outputId": "96c3440b-ca59-45f4-b5fc-8f1ca853cf91"
      },
      "execution_count": null,
      "outputs": [
        {
          "output_type": "stream",
          "name": "stdout",
          "text": [
            "✅ Datos preparados. Tamaño X_train: torch.Size([4000, 6]), Tamaño y_train: torch.Size([4000])\n"
          ]
        }
      ]
    },
    {
      "cell_type": "code",
      "source": [
        "# --- Definir Red Neuronal ---\n",
        "class NeuralNetwork(nn.Module):\n",
        "    def __init__(self):\n",
        "        super(NeuralNetwork, self).__init__()\n",
        "        self.fc1 = nn.Linear(6, 64)\n",
        "        self.fc2 = nn.Linear(64, 32)\n",
        "        self.fc3 = nn.Linear(32, 4)  # 4 clases posibles\n",
        "\n",
        "    def forward(self, x):\n",
        "        x = torch.relu(self.fc1(x))\n",
        "        x = torch.relu(self.fc2(x))\n",
        "        x = self.fc3(x)\n",
        "        return x\n",
        "\n",
        "best_accuracy = 0\n",
        "best_params = {}\n",
        "\n",
        "for lr in [0.001, 0.01, 0.1]:\n",
        "    for momentum in [0.5, 0.9]:\n",
        "        model = NeuralNetwork()\n",
        "        criterion = nn.CrossEntropyLoss()\n",
        "        optimizer = optim.SGD(model.parameters(), lr=lr, momentum=momentum)\n",
        "\n",
        "        # Entrenamiento (solo 5 epochs para evaluar rápido)\n",
        "        for epoch in range(5):\n",
        "            for inputs, labels in train_loader:\n",
        "                optimizer.zero_grad()\n",
        "                outputs = model(inputs)\n",
        "                loss = criterion(outputs, labels)\n",
        "                loss.backward()\n",
        "                optimizer.step()\n",
        "\n",
        "        # Evaluación en test\n",
        "        with torch.no_grad():\n",
        "            outputs = model(X_test_tensor)\n",
        "            _, predicted = torch.max(outputs, 1)\n",
        "            accuracy = (predicted == y_test_tensor).sum().item() / y_test_tensor.size(0)\n",
        "\n",
        "        print(f\"lr={lr}, momentum={momentum}, accuracy={accuracy:.4f}\")\n",
        "\n",
        "        if accuracy > best_accuracy:\n",
        "            best_accuracy = accuracy\n",
        "            best_params = {'lr': lr, 'momentum': momentum}\n",
        "\n",
        "print(f\"\\n🚀 Mejor combinación encontrada: {best_params}, con accuracy: {best_accuracy:.4f}\")\n",
        "\n",
        "\n"
      ],
      "metadata": {
        "colab": {
          "base_uri": "https://localhost:8080/"
        },
        "id": "qJ0Aq7b6dULt",
        "outputId": "c17e61e7-8df4-4861-80a2-3ecd6fc6c075"
      },
      "execution_count": null,
      "outputs": [
        {
          "output_type": "stream",
          "name": "stdout",
          "text": [
            "lr=0.001, momentum=0.5, accuracy=0.3190\n",
            "lr=0.001, momentum=0.9, accuracy=0.3880\n",
            "lr=0.01, momentum=0.5, accuracy=0.3810\n",
            "lr=0.01, momentum=0.9, accuracy=0.4470\n",
            "lr=0.1, momentum=0.5, accuracy=0.4520\n",
            "lr=0.1, momentum=0.9, accuracy=0.4410\n",
            "\n",
            "🚀 Mejor combinación encontrada: {'lr': 0.1, 'momentum': 0.5}, con accuracy: 0.4520\n"
          ]
        }
      ]
    },
    {
      "cell_type": "code",
      "source": [
        "# --- Entrenar la red neuronal ---\n",
        "num_epochs = 30\n",
        "\n",
        "for epoch in range(num_epochs):\n",
        "    running_loss = 0.0\n",
        "    for inputs, labels in train_loader:\n",
        "        optimizer.zero_grad()\n",
        "        outputs = model(inputs)\n",
        "        loss = criterion(outputs, labels)\n",
        "        loss.backward()\n",
        "        optimizer.step()\n",
        "        running_loss += loss.item()\n",
        "\n",
        "    # Mostrar pérdida cada 5 épocas\n",
        "    if (epoch + 1) % 5 == 0:\n",
        "        print(f\"📈 Epoch [{epoch+1}/{num_epochs}], Loss: {running_loss/len(train_loader):.4f}\")\n",
        "\n",
        "print(\"✅ Entrenamiento finalizado.\")\n",
        "\n"
      ],
      "metadata": {
        "colab": {
          "base_uri": "https://localhost:8080/"
        },
        "id": "p6aYNdhLdVm2",
        "outputId": "7ee13527-4be8-4252-cabb-e0b2138d59d3"
      },
      "execution_count": null,
      "outputs": [
        {
          "output_type": "stream",
          "name": "stdout",
          "text": [
            "📈 Epoch [5/30], Loss: 1.1093\n",
            "📈 Epoch [10/30], Loss: 1.0995\n",
            "📈 Epoch [15/30], Loss: 1.0994\n",
            "📈 Epoch [20/30], Loss: 1.0924\n",
            "📈 Epoch [25/30], Loss: 1.0850\n",
            "📈 Epoch [30/30], Loss: 1.0839\n",
            "✅ Entrenamiento finalizado.\n"
          ]
        }
      ]
    },
    {
      "cell_type": "code",
      "source": [
        "# --- Invertir codificación de etiquetas para mostrar predicciones ---\n",
        "predicted_labels = label_encoder.inverse_transform(predicted.numpy())\n",
        "real_labels = label_encoder.inverse_transform(y_test_tensor.numpy())\n",
        "\n",
        "# --- Crear DataFrame de comparación ---\n",
        "results = pd.DataFrame({'Real': real_labels, 'Predicho': predicted_labels})\n",
        "\n",
        "# --- Mostrar 15 ejemplos ---\n",
        "print(\"📋 Muestra de predicciones reales vs predichas:\")\n",
        "print(results.sample(15, random_state=40))\n"
      ],
      "metadata": {
        "id": "QiUEA743fItQ",
        "outputId": "0af68cd0-b0a3-4138-e20d-f7b95a50b1ba",
        "colab": {
          "base_uri": "https://localhost:8080/"
        }
      },
      "execution_count": null,
      "outputs": [
        {
          "output_type": "stream",
          "name": "stdout",
          "text": [
            "📋 Muestra de predicciones reales vs predichas:\n",
            "          Real  Predicho\n",
            "204   Muy bien      Bien\n",
            "71        Bien  Muy bien\n",
            "594       Bien      Bien\n",
            "672   Muy bien  Muy bien\n",
            "14    Muy bien  Muy bien\n",
            "64        Bien      Bien\n",
            "340   Muy bien      Bien\n",
            "135       Bien       Mal\n",
            "350        Mal  Muy bien\n",
            "976       Bien  Muy bien\n",
            "181       Bien  Muy bien\n",
            "538       Bien      Bien\n",
            "246       Bien      Bien\n",
            "982  Excelente  Muy bien\n",
            "366        Mal      Bien\n"
          ]
        }
      ]
    },
    {
      "cell_type": "code",
      "source": [
        "from sklearn.metrics import classification_report, confusion_matrix\n",
        "\n",
        "print(confusion_matrix(y_test_tensor, predicted))\n",
        "print(classification_report(y_test_tensor, predicted, target_names=label_encoder.classes_))\n"
      ],
      "metadata": {
        "id": "r-6YPIJwjAbt",
        "outputId": "2e63029b-7102-4fe7-dafd-a7ee58c92396",
        "colab": {
          "base_uri": "https://localhost:8080/"
        }
      },
      "execution_count": null,
      "outputs": [
        {
          "output_type": "stream",
          "name": "stdout",
          "text": [
            "[[127   0  44 192]\n",
            " [  7   8   1  72]\n",
            " [105   0  64  62]\n",
            " [ 61   1  14 242]]\n",
            "              precision    recall  f1-score   support\n",
            "\n",
            "        Bien       0.42      0.35      0.38       363\n",
            "   Excelente       0.89      0.09      0.16        88\n",
            "         Mal       0.52      0.28      0.36       231\n",
            "    Muy bien       0.43      0.76      0.55       318\n",
            "\n",
            "    accuracy                           0.44      1000\n",
            "   macro avg       0.56      0.37      0.36      1000\n",
            "weighted avg       0.49      0.44      0.41      1000\n",
            "\n"
          ]
        }
      ]
    },
    {
      "cell_type": "code",
      "source": [
        "# --- PREDICCIÓN SOBRE PELÍCULAS FICTICIAS ---\n",
        "\n",
        "# Datos originales de ejemplo (sin estandarizar aún)\n",
        "nuevas_pelis = pd.DataFrame({\n",
        "    'type_new': [0, 1],                 # 0: película, 1: serie\n",
        "    'releaseYear': [2015, 2020],        # años de estreno\n",
        "    'imdbNumVotes': [50000, 5000],      # número de votos\n",
        "    'drama': [1, 0],                    # género drama\n",
        "    'comedy': [0, 1],                   # género comedia\n",
        "    'other': [0, 0]                     # otros géneros\n",
        "})\n",
        "\n",
        "# Estandarizar releaseYear y imdbNumVotes igual que el conjunto original\n",
        "nuevas_pelis[['releaseYear', 'imdbNumVotes']] = scaler.transform(nuevas_pelis[['releaseYear', 'imdbNumVotes']])\n",
        "\n",
        "# Convertir a tensor\n",
        "nuevas_tensor = torch.tensor(nuevas_pelis.values, dtype=torch.float32)\n",
        "\n",
        "# Predecir\n",
        "with torch.no_grad():\n",
        "    predicciones = model(nuevas_tensor)\n",
        "    _, clases_predichas = torch.max(predicciones, 1)\n",
        "\n",
        "# Decodificar etiquetas\n",
        "categorias_predichas = label_encoder.inverse_transform(clases_predichas.numpy())\n",
        "\n",
        "# Mostrar resultados\n",
        "for i, categoria in enumerate(categorias_predichas, 1):\n",
        "    print(f\"Película {i} → Predicción de calidad IMDb: {categoria}\")\n"
      ],
      "metadata": {
        "colab": {
          "base_uri": "https://localhost:8080/"
        },
        "id": "01gNXGGIg47S",
        "outputId": "8bff8870-de9a-4b12-efd9-4ba62b9ff0dd"
      },
      "execution_count": null,
      "outputs": [
        {
          "output_type": "stream",
          "name": "stdout",
          "text": [
            "Película 1 → Predicción de calidad IMDb: Bien\n",
            "Película 2 → Predicción de calidad IMDb: Bien\n"
          ]
        }
      ]
    }
  ]
}